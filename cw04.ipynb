{
 "cells": [
  {
   "cell_type": "code",
   "execution_count": 1,
   "metadata": {
    "collapsed": false
   },
   "outputs": [
   ],
   "source": [
    "import cw04\n",
    "import pandas as pd"
   ]
  },
  {
   "cell_type": "markdown",
   "metadata": {
    "collapsed": false
   },
   "source": [
    "# Classwork 04\n",
    "\n",
    "Daniel, Devon, Myranda\n",
    "February 27, 2018\n",
    "\n",
    "## Description\n",
    "\n",
    "The following code benchmarks and plots functions approximated both as python lists and as numpy arrays."
   ]
  },
  {
   "cell_type": "markdown",
   "metadata": {
    "collapsed": false
   },
   "source": [
    "### Module Documentation\n",
    "\n",
    "For illustration, we show how the python help system naturally uses the docstrings from the code."
   ]
  },
  {
   "cell_type": "code",
   "execution_count": 2,
   "metadata": {
    "collapsed": false
   },
   "outputs": [
    {
     "name": "stdout",
     "output_type": "stream",
     "text": [
      "Help on module cw04:\n",
      "\n",
      "NAME\n",
      "    cw04\n",
      "\n",
      "DESCRIPTION\n",
      "    Classwork 04\n",
      "    This classwork introduces numpy arrays and compares their performance to\n",
      "    python lists.\n",
      "\n",
      "FUNCTIONS\n",
      "    gen_gaussian_array(a, b, n=1000)\n",
      "        gen_gaussian_array(a, b, n=1000)\n",
      "        Generate a discrete approximation of a Gaussian function, including its\n",
      "        domain and range, stored as a pair of numpy arrays.\n",
      "        \n",
      "        Args:\n",
      "            a (float) : Lower bound of domain\n",
      "            b (float) : Upper bound of domain\n",
      "            n (int, optional) : Number of points in domain, defaults to 1000.\n",
      "        \n",
      "        Returns:\n",
      "            (x, g) : Pair of numpy arrays of float64\n",
      "                x  : [a, ..., b] Array of n equally spaced float64 between a and b\n",
      "                g  : [g(a), ..., g(b)] Array of Gaussian values matched to x\n",
      "    \n",
      "    gen_gaussian_list(a, b, n=1000)\n",
      "        gen_gaussian_list(a, b, n=1000)\n",
      "        Generate a discrete approximation of a Gaussian function, including its\n",
      "        domain and range, stored as a pair of vanilla python lists.\n",
      "        \n",
      "        Args:\n",
      "            a (float) : Lower bound of domain\n",
      "            b (float) : Upper bound of domain\n",
      "            n (int, optional) : Number of points in domain, defaults to 1000.\n",
      "        \n",
      "        Returns:\n",
      "            (x, g) : Pair of lists of floats\n",
      "                x  : [a, ..., b] List of n equally spaced floats between a and b\n",
      "                g  : [g(a), ..., g(b)] List of Gaussian values matched to x\n",
      "    \n",
      "    gen_sinc_array(a, b, n=1000)\n",
      "        gen_sinc_array(a, b, n=1000)\n",
      "        Generate a discrete approximation of a sinc function, including its\n",
      "        domain and range, stored as a pair of numpy arrays.\n",
      "        \n",
      "        Args:\n",
      "            a (float) : Lower bound of domain\n",
      "            b (float) : Upper bound of domain\n",
      "            n (int, optional) : Number of points in domain, defaults to 1000.\n",
      "        \n",
      "        Returns:\n",
      "            (x, s) : Pair of numpy arrays of float64\n",
      "                x  : [a, ..., b] Array of n equally spaced float64 between a and b\n",
      "                s  : [s(a), ..., s(b)] Array of sinc values matched to x\n",
      "    \n",
      "    gen_sinc_list(a, b, n=1000)\n",
      "        gen_sinc_list(a, b, n=1000)\n",
      "        Generate a discrete approximation of a sinc function, including its\n",
      "        domain and range, stored as a pair of vanilla python lists.\n",
      "        \n",
      "        Args:\n",
      "            a (float) : Lower bound of domain\n",
      "            b (float) : Upper bound of domain\n",
      "            n (int, optional) : Number of points in domain, defaults to 1000.\n",
      "        \n",
      "        Returns:\n",
      "            (x, s) : Pair of lists of floats\n",
      "                x  : [a, ..., b] List of n equally spaced floats between a and b\n",
      "                s  : [s(a), ..., s(b)] List of sinc values matched to x\n",
      "    \n",
      "    gen_sinf_array(a, b, n=1000)\n",
      "        gen_sinf_array(a, b, n=1000)\n",
      "        Generate a discrete approximation of a sinf function, including its\n",
      "        domain and range, stored as numpy arrays.\n",
      "        \n",
      "        Args:\n",
      "            a (float) : Lower bound of domain\n",
      "            b (float) : Upper bound of domain\n",
      "            n (int, optional) : Number of points in domain, defaults to 1000.\n",
      "        \n",
      "        Returns:\n",
      "            (x, s) : Pair of numpy arrays of float64\n",
      "                x  : [a, ..., b] Array of n equally spaced float64 between a and b\n",
      "                s  : [s(a), ..., s(b)] Array of sinf values matched to x\n",
      "    \n",
      "    gen_sinf_list(a, b, n=1000)\n",
      "        gen_sinf_list(a, b, n=1000)\n",
      "        Generate a discrete approximation of a sinf function, including its\n",
      "        domain and range, stored as a pair of vanilla python lists.\n",
      "        \n",
      "        Args:\n",
      "            a (float) : Lower bound of domain\n",
      "            b (float) : Upper bound of domain\n",
      "            n (int, optional) : Number of points in domain, defaults to 1000.\n",
      "        \n",
      "        Returns:\n",
      "            (x, s) : Pair of lists of floats\n",
      "                x  : [a, ..., b] List of n equally spaced floats between a and b\n",
      "                s  : [s(a), ..., s(b)] List of sinf values matched to x\n",
      "    \n",
      "    main(a, b, n=1000)\n",
      "        main(a, b, n=1000)\n",
      "        Main function for command line operation. Prints result of Gaussian to screen.\n",
      "        \n",
      "        Args:\n",
      "            a (float) : Lower bound of domain\n",
      "            b (float) : Upper bound of domain\n",
      "            n (int, optional) : Number of points in domain, defaults to 1000.\n",
      "        \n",
      "        Returns:\n",
      "            None\n",
      "        \n",
      "        Effects:\n",
      "            Prints Gaussian to screen.\n",
      "\n",
      "FILE\n",
      "    /home/user/phys220/cw-04-phys220/cw04.py\n",
      "\n",
      "\n"
     ]
    }
   ],
   "source": [
    "help(cw04)"
   ]
  },
  {
   "cell_type": "code",
   "execution_count": 3,
   "metadata": {
    "collapsed": false
   },
   "outputs": [
    {
     "name": "stdout",
     "output_type": "stream",
     "text": [
      "Help on function gen_gaussian_list in module cw04:\n",
      "\n",
      "gen_gaussian_list(a, b, n=1000)\n",
      "    gen_gaussian_list(a, b, n=1000)\n",
      "    Generate a discrete approximation of a Gaussian function, including its\n",
      "    domain and range, stored as a pair of vanilla python lists.\n",
      "    \n",
      "    Args:\n",
      "        a (float) : Lower bound of domain\n",
      "        b (float) : Upper bound of domain\n",
      "        n (int, optional) : Number of points in domain, defaults to 1000.\n",
      "    \n",
      "    Returns:\n",
      "        (x, g) : Pair of lists of floats\n",
      "            x  : [a, ..., b] List of n equally spaced floats between a and b\n",
      "            g  : [g(a), ..., g(b)] List of Gaussian values matched to x\n",
      "\n"
     ]
    }
   ],
   "source": [
    "help(cw04.gen_gaussian_list)"
   ]
  },
  {
   "cell_type": "code",
   "execution_count": 4,
   "metadata": {
    "collapsed": false
   },
   "outputs": [
    {
     "data": {
      "text/plain": [
       "\u001b[0;31mSignature:\u001b[0m \u001b[0mcw04\u001b[0m\u001b[0;34m.\u001b[0m\u001b[0mgen_gaussian_array\u001b[0m\u001b[0;34m(\u001b[0m\u001b[0ma\u001b[0m\u001b[0;34m,\u001b[0m \u001b[0mb\u001b[0m\u001b[0;34m,\u001b[0m \u001b[0mn\u001b[0m\u001b[0;34m=\u001b[0m\u001b[0;36m1000\u001b[0m\u001b[0;34m)\u001b[0m\u001b[0;34m\u001b[0m\u001b[0m\n",
       "\u001b[0;31mDocstring:\u001b[0m\n",
       "gen_gaussian_array(a, b, n=1000)\n",
       "Generate a discrete approximation of a Gaussian function, including its\n",
       "domain and range, stored as a pair of numpy arrays.\n",
       "\n",
       "Args:\n",
       "    a (float) : Lower bound of domain\n",
       "    b (float) : Upper bound of domain\n",
       "    n (int, optional) : Number of points in domain, defaults to 1000.\n",
       "\n",
       "Returns:\n",
       "    (x, g) : Pair of numpy arrays of float64\n",
       "        x  : [a, ..., b] Array of n equally spaced float64 between a and b\n",
       "        g  : [g(a), ..., g(b)] Array of Gaussian values matched to x\n",
       "\u001b[0;31mFile:\u001b[0m      ~/phys220/cw-04-phys220/cw04.py\n",
       "\u001b[0;31mType:\u001b[0m      function\n"
      ]
     },
     "execution_count": 4,
     "metadata": {
     },
     "output_type": "execute_result",
     "start": 0
    }
   ],
   "source": [
    "?cw04.gen_gaussian_array"
   ]
  },
  {
   "cell_type": "markdown",
   "metadata": {
    "collapsed": false
   },
   "source": [
    "### Python Lists\n",
    "\n",
    "Benchmark and plot the reference list implementation."
   ]
  },
  {
   "cell_type": "markdown",
   "metadata": {
    "collapsed": false
   },
   "source": [
    "#### Gaussian Function"
   ]
  },
  {
   "cell_type": "code",
   "execution_count": 5,
   "metadata": {
    "collapsed": false
   },
   "outputs": [
    {
     "name": "stdout",
     "output_type": "stream",
     "text": [
      "CPU times: user 1.22 s, sys: 33.7 ms, total: 1.25 s\n",
      "Wall time: 1.86 s\n"
     ]
    }
   ],
   "source": [
    "%time x, g = cw04.gen_gaussian_list(-10,10,1000001)"
   ]
  },
  {
   "cell_type": "code",
   "execution_count": 6,
   "metadata": {
    "collapsed": false
   },
   "outputs": [
   ],
   "source": [
    "gauss = pd.DataFrame({\"x\":x,\"g(x)\":g})"
   ]
  },
  {
   "cell_type": "code",
   "execution_count": 7,
   "metadata": {
    "collapsed": false
   },
   "outputs": [
    {
     "data": {
      "text/html": [
       "<div>\n",
       "<style scoped>\n",
       "    .dataframe tbody tr th:only-of-type {\n",
       "        vertical-align: middle;\n",
       "    }\n",
       "\n",
       "    .dataframe tbody tr th {\n",
       "        vertical-align: top;\n",
       "    }\n",
       "\n",
       "    .dataframe thead th {\n",
       "        text-align: right;\n",
       "    }\n",
       "</style>\n",
       "<table border=\"1\" class=\"dataframe\">\n",
       "  <thead>\n",
       "    <tr style=\"text-align: right;\">\n",
       "      <th></th>\n",
       "      <th>g(x)</th>\n",
       "      <th>x</th>\n",
       "    </tr>\n",
       "  </thead>\n",
       "  <tbody>\n",
       "    <tr>\n",
       "      <th>0</th>\n",
       "      <td>7.694599e-23</td>\n",
       "      <td>-10.00000</td>\n",
       "    </tr>\n",
       "    <tr>\n",
       "      <th>1</th>\n",
       "      <td>7.696138e-23</td>\n",
       "      <td>-9.99998</td>\n",
       "    </tr>\n",
       "    <tr>\n",
       "      <th>2</th>\n",
       "      <td>7.697677e-23</td>\n",
       "      <td>-9.99996</td>\n",
       "    </tr>\n",
       "    <tr>\n",
       "      <th>3</th>\n",
       "      <td>7.699217e-23</td>\n",
       "      <td>-9.99994</td>\n",
       "    </tr>\n",
       "    <tr>\n",
       "      <th>4</th>\n",
       "      <td>7.700757e-23</td>\n",
       "      <td>-9.99992</td>\n",
       "    </tr>\n",
       "    <tr>\n",
       "      <th>5</th>\n",
       "      <td>7.702297e-23</td>\n",
       "      <td>-9.99990</td>\n",
       "    </tr>\n",
       "    <tr>\n",
       "      <th>6</th>\n",
       "      <td>7.703838e-23</td>\n",
       "      <td>-9.99988</td>\n",
       "    </tr>\n",
       "    <tr>\n",
       "      <th>7</th>\n",
       "      <td>7.705379e-23</td>\n",
       "      <td>-9.99986</td>\n",
       "    </tr>\n",
       "    <tr>\n",
       "      <th>8</th>\n",
       "      <td>7.706920e-23</td>\n",
       "      <td>-9.99984</td>\n",
       "    </tr>\n",
       "    <tr>\n",
       "      <th>9</th>\n",
       "      <td>7.708461e-23</td>\n",
       "      <td>-9.99982</td>\n",
       "    </tr>\n",
       "    <tr>\n",
       "      <th>10</th>\n",
       "      <td>7.710003e-23</td>\n",
       "      <td>-9.99980</td>\n",
       "    </tr>\n",
       "    <tr>\n",
       "      <th>11</th>\n",
       "      <td>7.711545e-23</td>\n",
       "      <td>-9.99978</td>\n",
       "    </tr>\n",
       "    <tr>\n",
       "      <th>12</th>\n",
       "      <td>7.713088e-23</td>\n",
       "      <td>-9.99976</td>\n",
       "    </tr>\n",
       "    <tr>\n",
       "      <th>13</th>\n",
       "      <td>7.714630e-23</td>\n",
       "      <td>-9.99974</td>\n",
       "    </tr>\n",
       "    <tr>\n",
       "      <th>14</th>\n",
       "      <td>7.716173e-23</td>\n",
       "      <td>-9.99972</td>\n",
       "    </tr>\n",
       "    <tr>\n",
       "      <th>15</th>\n",
       "      <td>7.717717e-23</td>\n",
       "      <td>-9.99970</td>\n",
       "    </tr>\n",
       "    <tr>\n",
       "      <th>16</th>\n",
       "      <td>7.719260e-23</td>\n",
       "      <td>-9.99968</td>\n",
       "    </tr>\n",
       "    <tr>\n",
       "      <th>17</th>\n",
       "      <td>7.720804e-23</td>\n",
       "      <td>-9.99966</td>\n",
       "    </tr>\n",
       "    <tr>\n",
       "      <th>18</th>\n",
       "      <td>7.722349e-23</td>\n",
       "      <td>-9.99964</td>\n",
       "    </tr>\n",
       "    <tr>\n",
       "      <th>19</th>\n",
       "      <td>7.723893e-23</td>\n",
       "      <td>-9.99962</td>\n",
       "    </tr>\n",
       "    <tr>\n",
       "      <th>20</th>\n",
       "      <td>7.725438e-23</td>\n",
       "      <td>-9.99960</td>\n",
       "    </tr>\n",
       "    <tr>\n",
       "      <th>21</th>\n",
       "      <td>7.726983e-23</td>\n",
       "      <td>-9.99958</td>\n",
       "    </tr>\n",
       "    <tr>\n",
       "      <th>22</th>\n",
       "      <td>7.728529e-23</td>\n",
       "      <td>-9.99956</td>\n",
       "    </tr>\n",
       "    <tr>\n",
       "      <th>23</th>\n",
       "      <td>7.730074e-23</td>\n",
       "      <td>-9.99954</td>\n",
       "    </tr>\n",
       "    <tr>\n",
       "      <th>24</th>\n",
       "      <td>7.731621e-23</td>\n",
       "      <td>-9.99952</td>\n",
       "    </tr>\n",
       "    <tr>\n",
       "      <th>25</th>\n",
       "      <td>7.733167e-23</td>\n",
       "      <td>-9.99950</td>\n",
       "    </tr>\n",
       "    <tr>\n",
       "      <th>26</th>\n",
       "      <td>7.734714e-23</td>\n",
       "      <td>-9.99948</td>\n",
       "    </tr>\n",
       "    <tr>\n",
       "      <th>27</th>\n",
       "      <td>7.736261e-23</td>\n",
       "      <td>-9.99946</td>\n",
       "    </tr>\n",
       "    <tr>\n",
       "      <th>28</th>\n",
       "      <td>7.737808e-23</td>\n",
       "      <td>-9.99944</td>\n",
       "    </tr>\n",
       "    <tr>\n",
       "      <th>29</th>\n",
       "      <td>7.739356e-23</td>\n",
       "      <td>-9.99942</td>\n",
       "    </tr>\n",
       "    <tr>\n",
       "      <th>...</th>\n",
       "      <td>...</td>\n",
       "      <td>...</td>\n",
       "    </tr>\n",
       "    <tr>\n",
       "      <th>999971</th>\n",
       "      <td>7.739356e-23</td>\n",
       "      <td>9.99942</td>\n",
       "    </tr>\n",
       "    <tr>\n",
       "      <th>999972</th>\n",
       "      <td>7.737808e-23</td>\n",
       "      <td>9.99944</td>\n",
       "    </tr>\n",
       "    <tr>\n",
       "      <th>999973</th>\n",
       "      <td>7.736261e-23</td>\n",
       "      <td>9.99946</td>\n",
       "    </tr>\n",
       "    <tr>\n",
       "      <th>999974</th>\n",
       "      <td>7.734714e-23</td>\n",
       "      <td>9.99948</td>\n",
       "    </tr>\n",
       "    <tr>\n",
       "      <th>999975</th>\n",
       "      <td>7.733167e-23</td>\n",
       "      <td>9.99950</td>\n",
       "    </tr>\n",
       "    <tr>\n",
       "      <th>999976</th>\n",
       "      <td>7.731621e-23</td>\n",
       "      <td>9.99952</td>\n",
       "    </tr>\n",
       "    <tr>\n",
       "      <th>999977</th>\n",
       "      <td>7.730074e-23</td>\n",
       "      <td>9.99954</td>\n",
       "    </tr>\n",
       "    <tr>\n",
       "      <th>999978</th>\n",
       "      <td>7.728529e-23</td>\n",
       "      <td>9.99956</td>\n",
       "    </tr>\n",
       "    <tr>\n",
       "      <th>999979</th>\n",
       "      <td>7.726983e-23</td>\n",
       "      <td>9.99958</td>\n",
       "    </tr>\n",
       "    <tr>\n",
       "      <th>999980</th>\n",
       "      <td>7.725438e-23</td>\n",
       "      <td>9.99960</td>\n",
       "    </tr>\n",
       "    <tr>\n",
       "      <th>999981</th>\n",
       "      <td>7.723893e-23</td>\n",
       "      <td>9.99962</td>\n",
       "    </tr>\n",
       "    <tr>\n",
       "      <th>999982</th>\n",
       "      <td>7.722349e-23</td>\n",
       "      <td>9.99964</td>\n",
       "    </tr>\n",
       "    <tr>\n",
       "      <th>999983</th>\n",
       "      <td>7.720804e-23</td>\n",
       "      <td>9.99966</td>\n",
       "    </tr>\n",
       "    <tr>\n",
       "      <th>999984</th>\n",
       "      <td>7.719260e-23</td>\n",
       "      <td>9.99968</td>\n",
       "    </tr>\n",
       "    <tr>\n",
       "      <th>999985</th>\n",
       "      <td>7.717717e-23</td>\n",
       "      <td>9.99970</td>\n",
       "    </tr>\n",
       "    <tr>\n",
       "      <th>999986</th>\n",
       "      <td>7.716173e-23</td>\n",
       "      <td>9.99972</td>\n",
       "    </tr>\n",
       "    <tr>\n",
       "      <th>999987</th>\n",
       "      <td>7.714630e-23</td>\n",
       "      <td>9.99974</td>\n",
       "    </tr>\n",
       "    <tr>\n",
       "      <th>999988</th>\n",
       "      <td>7.713088e-23</td>\n",
       "      <td>9.99976</td>\n",
       "    </tr>\n",
       "    <tr>\n",
       "      <th>999989</th>\n",
       "      <td>7.711545e-23</td>\n",
       "      <td>9.99978</td>\n",
       "    </tr>\n",
       "    <tr>\n",
       "      <th>999990</th>\n",
       "      <td>7.710003e-23</td>\n",
       "      <td>9.99980</td>\n",
       "    </tr>\n",
       "    <tr>\n",
       "      <th>999991</th>\n",
       "      <td>7.708461e-23</td>\n",
       "      <td>9.99982</td>\n",
       "    </tr>\n",
       "    <tr>\n",
       "      <th>999992</th>\n",
       "      <td>7.706920e-23</td>\n",
       "      <td>9.99984</td>\n",
       "    </tr>\n",
       "    <tr>\n",
       "      <th>999993</th>\n",
       "      <td>7.705379e-23</td>\n",
       "      <td>9.99986</td>\n",
       "    </tr>\n",
       "    <tr>\n",
       "      <th>999994</th>\n",
       "      <td>7.703838e-23</td>\n",
       "      <td>9.99988</td>\n",
       "    </tr>\n",
       "    <tr>\n",
       "      <th>999995</th>\n",
       "      <td>7.702297e-23</td>\n",
       "      <td>9.99990</td>\n",
       "    </tr>\n",
       "    <tr>\n",
       "      <th>999996</th>\n",
       "      <td>7.700757e-23</td>\n",
       "      <td>9.99992</td>\n",
       "    </tr>\n",
       "    <tr>\n",
       "      <th>999997</th>\n",
       "      <td>7.699217e-23</td>\n",
       "      <td>9.99994</td>\n",
       "    </tr>\n",
       "    <tr>\n",
       "      <th>999998</th>\n",
       "      <td>7.697677e-23</td>\n",
       "      <td>9.99996</td>\n",
       "    </tr>\n",
       "    <tr>\n",
       "      <th>999999</th>\n",
       "      <td>7.696138e-23</td>\n",
       "      <td>9.99998</td>\n",
       "    </tr>\n",
       "    <tr>\n",
       "      <th>1000000</th>\n",
       "      <td>7.694599e-23</td>\n",
       "      <td>10.00000</td>\n",
       "    </tr>\n",
       "  </tbody>\n",
       "</table>\n",
       "<p>1000001 rows × 2 columns</p>\n",
       "</div>"
      ]
     },
     "execution_count": 7,
     "metadata": {
     },
     "output_type": "execute_result"
    }
   ],
   "source": [
    "gauss"
   ]
  },
  {
   "cell_type": "code",
   "execution_count": 8,
   "metadata": {
    "collapsed": false
   },
   "outputs": [
    {
     "data": {
      "text/plain": [
       "<matplotlib.axes._subplots.AxesSubplot at 0x7fea8477b978>"
      ]
     },
     "execution_count": 8,
     "metadata": {
     },
     "output_type": "execute_result"
    },
    {
     "data": {
      "image/png": "[encoded data removed]"
     },
     "metadata": {
      "image/png": {
       "height": 263,
       "width": 380
      }
     }
    }
   ],
   "source": [
    "gauss.plot(x=\"x\",y=\"g(x)\")"
   ]
  },
  {
   "cell_type": "markdown",
   "metadata": {
    "collapsed": false
   },
   "source": [
    "##### Numpy Arrays ~ Gaussian"
   ]
  },
  {
   "cell_type": "code",
   "execution_count": 9,
   "metadata": {
    "collapsed": false
   },
   "outputs": [
    {
     "name": "stdout",
     "output_type": "stream",
     "text": [
      "CPU times: user 66.3 ms, sys: 24.1 ms, total: 90.4 ms\n",
      "Wall time: 128 ms\n"
     ]
    }
   ],
   "source": [
    "%time x, g = cw04.gen_gaussian_array(-10, 10, 1000001)"
   ]
  },
  {
   "cell_type": "code",
   "execution_count": 10,
   "metadata": {
    "collapsed": false
   },
   "outputs": [
   ],
   "source": [
    "gauss = pd.DataFrame({\"x\":x,\"g(x)\":g})"
   ]
  },
  {
   "cell_type": "code",
   "execution_count": 11,
   "metadata": {
    "collapsed": false
   },
   "outputs": [
    {
     "data": {
      "text/plain": [
       "<matplotlib.axes._subplots.AxesSubplot at 0x7fea846a0390>"
      ]
     },
     "execution_count": 11,
     "metadata": {
     },
     "output_type": "execute_result"
    },
    {
     "data": {
      "image/png": "[encoded data removed]"
     },
     "metadata": {
      "image/png": {
       "height": 263,
       "width": 380
      }
     }
    }
   ],
   "source": [
    "gauss.plot(x=\"x\",y=\"g(x)\")"
   ]
  },
  {
   "cell_type": "markdown",
   "metadata": {
    "collapsed": false
   },
   "source": [
    "#### Sinc(x) Function"
   ]
  },
  {
   "cell_type": "code",
   "execution_count": 12,
   "metadata": {
    "collapsed": false
   },
   "outputs": [
    {
     "name": "stdout",
     "output_type": "stream",
     "text": [
      "Help on function gen_sinc_list in module cw04:\n",
      "\n",
      "gen_sinc_list(a, b, n=1000)\n",
      "    gen_sinc_list(a, b, n=1000)\n",
      "    Generate a discrete approximation of a sinc function, including its\n",
      "    domain and range, stored as a pair of vanilla python lists.\n",
      "    \n",
      "    Args:\n",
      "        a (float) : Lower bound of domain\n",
      "        b (float) : Upper bound of domain\n",
      "        n (int, optional) : Number of points in domain, defaults to 1000.\n",
      "    \n",
      "    Returns:\n",
      "        (x, s) : Pair of lists of floats\n",
      "            x  : [a, ..., b] List of n equally spaced floats between a and b\n",
      "            s  : [s(a), ..., s(b)] List of sinc values matched to x\n",
      "\n"
     ]
    }
   ],
   "source": [
    "help(cw04.gen_sinc_list)"
   ]
  },
  {
   "cell_type": "code",
   "execution_count": 13,
   "metadata": {
    "collapsed": false
   },
   "outputs": [
    {
     "data": {
      "text/plain": [
       "\u001b[0;31mSignature:\u001b[0m \u001b[0mcw04\u001b[0m\u001b[0;34m.\u001b[0m\u001b[0mgen_sinc_array\u001b[0m\u001b[0;34m(\u001b[0m\u001b[0ma\u001b[0m\u001b[0;34m,\u001b[0m \u001b[0mb\u001b[0m\u001b[0;34m,\u001b[0m \u001b[0mn\u001b[0m\u001b[0;34m=\u001b[0m\u001b[0;36m1000\u001b[0m\u001b[0;34m)\u001b[0m\u001b[0;34m\u001b[0m\u001b[0m\n",
       "\u001b[0;31mDocstring:\u001b[0m\n",
       "gen_sinc_array(a, b, n=1000)\n",
       "Generate a discrete approximation of a sinc function, including its\n",
       "domain and range, stored as a pair of numpy arrays.\n",
       "\n",
       "Args:\n",
       "    a (float) : Lower bound of domain\n",
       "    b (float) : Upper bound of domain\n",
       "    n (int, optional) : Number of points in domain, defaults to 1000.\n",
       "\n",
       "Returns:\n",
       "    (x, s) : Pair of numpy arrays of float64\n",
       "        x  : [a, ..., b] Array of n equally spaced float64 between a and b\n",
       "        s  : [s(a), ..., s(b)] Array of sinc values matched to x\n",
       "\u001b[0;31mFile:\u001b[0m      ~/phys220/cw-04-phys220/cw04.py\n",
       "\u001b[0;31mType:\u001b[0m      function\n"
      ]
     },
     "execution_count": 13,
     "metadata": {
     },
     "output_type": "execute_result",
     "start": 0
    }
   ],
   "source": [
    "?cw04.gen_sinc_array"
   ]
  },
  {
   "cell_type": "code",
   "execution_count": 14,
   "metadata": {
    "collapsed": false
   },
   "outputs": [
    {
     "name": "stdout",
     "output_type": "stream",
     "text": [
      "CPU times: user 642 ms, sys: 35.6 ms, total: 677 ms\n",
      "Wall time: 826 ms\n"
     ]
    }
   ],
   "source": [
    "%time x, s = cw04.gen_sinc_list(-10,10,1000001)"
   ]
  },
  {
   "cell_type": "code",
   "execution_count": 15,
   "metadata": {
    "collapsed": false
   },
   "outputs": [
   ],
   "source": [
    "sinc = pd.DataFrame({\"x\":x,\"s(x)\":s})"
   ]
  },
  {
   "cell_type": "code",
   "execution_count": 16,
   "metadata": {
    "collapsed": false
   },
   "outputs": [
    {
     "data": {
      "text/html": [
       "<div>\n",
       "<style scoped>\n",
       "    .dataframe tbody tr th:only-of-type {\n",
       "        vertical-align: middle;\n",
       "    }\n",
       "\n",
       "    .dataframe tbody tr th {\n",
       "        vertical-align: top;\n",
       "    }\n",
       "\n",
       "    .dataframe thead th {\n",
       "        text-align: right;\n",
       "    }\n",
       "</style>\n",
       "<table border=\"1\" class=\"dataframe\">\n",
       "  <thead>\n",
       "    <tr style=\"text-align: right;\">\n",
       "      <th></th>\n",
       "      <th>s(x)</th>\n",
       "      <th>x</th>\n",
       "    </tr>\n",
       "  </thead>\n",
       "  <tbody>\n",
       "    <tr>\n",
       "      <th>0</th>\n",
       "      <td>-0.054402</td>\n",
       "      <td>-10.00000</td>\n",
       "    </tr>\n",
       "    <tr>\n",
       "      <th>1</th>\n",
       "      <td>-0.054401</td>\n",
       "      <td>-9.99998</td>\n",
       "    </tr>\n",
       "    <tr>\n",
       "      <th>2</th>\n",
       "      <td>-0.054399</td>\n",
       "      <td>-9.99996</td>\n",
       "    </tr>\n",
       "    <tr>\n",
       "      <th>3</th>\n",
       "      <td>-0.054397</td>\n",
       "      <td>-9.99994</td>\n",
       "    </tr>\n",
       "    <tr>\n",
       "      <th>4</th>\n",
       "      <td>-0.054396</td>\n",
       "      <td>-9.99992</td>\n",
       "    </tr>\n",
       "    <tr>\n",
       "      <th>5</th>\n",
       "      <td>-0.054394</td>\n",
       "      <td>-9.99990</td>\n",
       "    </tr>\n",
       "    <tr>\n",
       "      <th>6</th>\n",
       "      <td>-0.054393</td>\n",
       "      <td>-9.99988</td>\n",
       "    </tr>\n",
       "    <tr>\n",
       "      <th>7</th>\n",
       "      <td>-0.054391</td>\n",
       "      <td>-9.99986</td>\n",
       "    </tr>\n",
       "    <tr>\n",
       "      <th>8</th>\n",
       "      <td>-0.054390</td>\n",
       "      <td>-9.99984</td>\n",
       "    </tr>\n",
       "    <tr>\n",
       "      <th>9</th>\n",
       "      <td>-0.054388</td>\n",
       "      <td>-9.99982</td>\n",
       "    </tr>\n",
       "    <tr>\n",
       "      <th>10</th>\n",
       "      <td>-0.054386</td>\n",
       "      <td>-9.99980</td>\n",
       "    </tr>\n",
       "    <tr>\n",
       "      <th>11</th>\n",
       "      <td>-0.054385</td>\n",
       "      <td>-9.99978</td>\n",
       "    </tr>\n",
       "    <tr>\n",
       "      <th>12</th>\n",
       "      <td>-0.054383</td>\n",
       "      <td>-9.99976</td>\n",
       "    </tr>\n",
       "    <tr>\n",
       "      <th>13</th>\n",
       "      <td>-0.054382</td>\n",
       "      <td>-9.99974</td>\n",
       "    </tr>\n",
       "    <tr>\n",
       "      <th>14</th>\n",
       "      <td>-0.054380</td>\n",
       "      <td>-9.99972</td>\n",
       "    </tr>\n",
       "    <tr>\n",
       "      <th>15</th>\n",
       "      <td>-0.054379</td>\n",
       "      <td>-9.99970</td>\n",
       "    </tr>\n",
       "    <tr>\n",
       "      <th>16</th>\n",
       "      <td>-0.054377</td>\n",
       "      <td>-9.99968</td>\n",
       "    </tr>\n",
       "    <tr>\n",
       "      <th>17</th>\n",
       "      <td>-0.054375</td>\n",
       "      <td>-9.99966</td>\n",
       "    </tr>\n",
       "    <tr>\n",
       "      <th>18</th>\n",
       "      <td>-0.054374</td>\n",
       "      <td>-9.99964</td>\n",
       "    </tr>\n",
       "    <tr>\n",
       "      <th>19</th>\n",
       "      <td>-0.054372</td>\n",
       "      <td>-9.99962</td>\n",
       "    </tr>\n",
       "    <tr>\n",
       "      <th>20</th>\n",
       "      <td>-0.054371</td>\n",
       "      <td>-9.99960</td>\n",
       "    </tr>\n",
       "    <tr>\n",
       "      <th>21</th>\n",
       "      <td>-0.054369</td>\n",
       "      <td>-9.99958</td>\n",
       "    </tr>\n",
       "    <tr>\n",
       "      <th>22</th>\n",
       "      <td>-0.054368</td>\n",
       "      <td>-9.99956</td>\n",
       "    </tr>\n",
       "    <tr>\n",
       "      <th>23</th>\n",
       "      <td>-0.054366</td>\n",
       "      <td>-9.99954</td>\n",
       "    </tr>\n",
       "    <tr>\n",
       "      <th>24</th>\n",
       "      <td>-0.054364</td>\n",
       "      <td>-9.99952</td>\n",
       "    </tr>\n",
       "    <tr>\n",
       "      <th>25</th>\n",
       "      <td>-0.054363</td>\n",
       "      <td>-9.99950</td>\n",
       "    </tr>\n",
       "    <tr>\n",
       "      <th>26</th>\n",
       "      <td>-0.054361</td>\n",
       "      <td>-9.99948</td>\n",
       "    </tr>\n",
       "    <tr>\n",
       "      <th>27</th>\n",
       "      <td>-0.054360</td>\n",
       "      <td>-9.99946</td>\n",
       "    </tr>\n",
       "    <tr>\n",
       "      <th>28</th>\n",
       "      <td>-0.054358</td>\n",
       "      <td>-9.99944</td>\n",
       "    </tr>\n",
       "    <tr>\n",
       "      <th>29</th>\n",
       "      <td>-0.054357</td>\n",
       "      <td>-9.99942</td>\n",
       "    </tr>\n",
       "    <tr>\n",
       "      <th>...</th>\n",
       "      <td>...</td>\n",
       "      <td>...</td>\n",
       "    </tr>\n",
       "    <tr>\n",
       "      <th>999971</th>\n",
       "      <td>-0.054357</td>\n",
       "      <td>9.99942</td>\n",
       "    </tr>\n",
       "    <tr>\n",
       "      <th>999972</th>\n",
       "      <td>-0.054358</td>\n",
       "      <td>9.99944</td>\n",
       "    </tr>\n",
       "    <tr>\n",
       "      <th>999973</th>\n",
       "      <td>-0.054360</td>\n",
       "      <td>9.99946</td>\n",
       "    </tr>\n",
       "    <tr>\n",
       "      <th>999974</th>\n",
       "      <td>-0.054361</td>\n",
       "      <td>9.99948</td>\n",
       "    </tr>\n",
       "    <tr>\n",
       "      <th>999975</th>\n",
       "      <td>-0.054363</td>\n",
       "      <td>9.99950</td>\n",
       "    </tr>\n",
       "    <tr>\n",
       "      <th>999976</th>\n",
       "      <td>-0.054364</td>\n",
       "      <td>9.99952</td>\n",
       "    </tr>\n",
       "    <tr>\n",
       "      <th>999977</th>\n",
       "      <td>-0.054366</td>\n",
       "      <td>9.99954</td>\n",
       "    </tr>\n",
       "    <tr>\n",
       "      <th>999978</th>\n",
       "      <td>-0.054368</td>\n",
       "      <td>9.99956</td>\n",
       "    </tr>\n",
       "    <tr>\n",
       "      <th>999979</th>\n",
       "      <td>-0.054369</td>\n",
       "      <td>9.99958</td>\n",
       "    </tr>\n",
       "    <tr>\n",
       "      <th>999980</th>\n",
       "      <td>-0.054371</td>\n",
       "      <td>9.99960</td>\n",
       "    </tr>\n",
       "    <tr>\n",
       "      <th>999981</th>\n",
       "      <td>-0.054372</td>\n",
       "      <td>9.99962</td>\n",
       "    </tr>\n",
       "    <tr>\n",
       "      <th>999982</th>\n",
       "      <td>-0.054374</td>\n",
       "      <td>9.99964</td>\n",
       "    </tr>\n",
       "    <tr>\n",
       "      <th>999983</th>\n",
       "      <td>-0.054375</td>\n",
       "      <td>9.99966</td>\n",
       "    </tr>\n",
       "    <tr>\n",
       "      <th>999984</th>\n",
       "      <td>-0.054377</td>\n",
       "      <td>9.99968</td>\n",
       "    </tr>\n",
       "    <tr>\n",
       "      <th>999985</th>\n",
       "      <td>-0.054379</td>\n",
       "      <td>9.99970</td>\n",
       "    </tr>\n",
       "    <tr>\n",
       "      <th>999986</th>\n",
       "      <td>-0.054380</td>\n",
       "      <td>9.99972</td>\n",
       "    </tr>\n",
       "    <tr>\n",
       "      <th>999987</th>\n",
       "      <td>-0.054382</td>\n",
       "      <td>9.99974</td>\n",
       "    </tr>\n",
       "    <tr>\n",
       "      <th>999988</th>\n",
       "      <td>-0.054383</td>\n",
       "      <td>9.99976</td>\n",
       "    </tr>\n",
       "    <tr>\n",
       "      <th>999989</th>\n",
       "      <td>-0.054385</td>\n",
       "      <td>9.99978</td>\n",
       "    </tr>\n",
       "    <tr>\n",
       "      <th>999990</th>\n",
       "      <td>-0.054386</td>\n",
       "      <td>9.99980</td>\n",
       "    </tr>\n",
       "    <tr>\n",
       "      <th>999991</th>\n",
       "      <td>-0.054388</td>\n",
       "      <td>9.99982</td>\n",
       "    </tr>\n",
       "    <tr>\n",
       "      <th>999992</th>\n",
       "      <td>-0.054390</td>\n",
       "      <td>9.99984</td>\n",
       "    </tr>\n",
       "    <tr>\n",
       "      <th>999993</th>\n",
       "      <td>-0.054391</td>\n",
       "      <td>9.99986</td>\n",
       "    </tr>\n",
       "    <tr>\n",
       "      <th>999994</th>\n",
       "      <td>-0.054393</td>\n",
       "      <td>9.99988</td>\n",
       "    </tr>\n",
       "    <tr>\n",
       "      <th>999995</th>\n",
       "      <td>-0.054394</td>\n",
       "      <td>9.99990</td>\n",
       "    </tr>\n",
       "    <tr>\n",
       "      <th>999996</th>\n",
       "      <td>-0.054396</td>\n",
       "      <td>9.99992</td>\n",
       "    </tr>\n",
       "    <tr>\n",
       "      <th>999997</th>\n",
       "      <td>-0.054397</td>\n",
       "      <td>9.99994</td>\n",
       "    </tr>\n",
       "    <tr>\n",
       "      <th>999998</th>\n",
       "      <td>-0.054399</td>\n",
       "      <td>9.99996</td>\n",
       "    </tr>\n",
       "    <tr>\n",
       "      <th>999999</th>\n",
       "      <td>-0.054401</td>\n",
       "      <td>9.99998</td>\n",
       "    </tr>\n",
       "    <tr>\n",
       "      <th>1000000</th>\n",
       "      <td>-0.054402</td>\n",
       "      <td>10.00000</td>\n",
       "    </tr>\n",
       "  </tbody>\n",
       "</table>\n",
       "<p>1000001 rows × 2 columns</p>\n",
       "</div>"
      ]
     },
     "execution_count": 16,
     "metadata": {
     },
     "output_type": "execute_result"
    }
   ],
   "source": [
    "sinc"
   ]
  },
  {
   "cell_type": "code",
   "execution_count": 17,
   "metadata": {
    "collapsed": false
   },
   "outputs": [
    {
     "data": {
      "text/plain": [
       "<matplotlib.axes._subplots.AxesSubplot at 0x7fea847a86d8>"
      ]
     },
     "execution_count": 17,
     "metadata": {
     },
     "output_type": "execute_result"
    },
    {
     "data": {
      "image/png": "[encoded data removed]"
     },
     "metadata": {
      "image/png": {
       "height": 263,
       "width": 382
      }
     }
    }
   ],
   "source": [
    "sinc.plot(x=\"x\",y=\"s(x)\")"
   ]
  },
  {
   "cell_type": "markdown",
   "metadata": {
    "collapsed": false
   },
   "source": [
    "##### Numpy Arrays ~ Sinc(x)"
   ]
  },
  {
   "cell_type": "code",
   "execution_count": 18,
   "metadata": {
    "collapsed": false
   },
   "outputs": [
    {
     "name": "stdout",
     "output_type": "stream",
     "text": [
      "CPU times: user 16 ms, sys: 14.1 ms, total: 30.1 ms\n",
      "Wall time: 59.4 ms\n"
     ]
    }
   ],
   "source": [
    "%time x, g = cw04.gen_sinc_array(-10, 10, 1000001)"
   ]
  },
  {
   "cell_type": "code",
   "execution_count": 19,
   "metadata": {
    "collapsed": false
   },
   "outputs": [
   ],
   "source": [
    "sinc = pd.DataFrame({\"x\":x,\"s(x)\":s})"
   ]
  },
  {
   "cell_type": "code",
   "execution_count": 20,
   "metadata": {
    "collapsed": false
   },
   "outputs": [
    {
     "data": {
      "text/plain": [
       "<matplotlib.axes._subplots.AxesSubplot at 0x7fea847a87b8>"
      ]
     },
     "execution_count": 20,
     "metadata": {
     },
     "output_type": "execute_result"
    },
    {
     "data": {
      "image/png": "[encoded data removed]"
     },
     "metadata": {
      "image/png": {
       "height": 263,
       "width": 382
      }
     }
    }
   ],
   "source": [
    "sinc.plot(x=\"x\",y=\"s(x)\")"
   ]
  },
  {
   "cell_type": "markdown",
   "metadata": {
    "collapsed": false
   },
   "source": [
    "#### Sinf(x) Function"
   ]
  },
  {
   "cell_type": "code",
   "execution_count": 21,
   "metadata": {
    "collapsed": false
   },
   "outputs": [
    {
     "name": "stdout",
     "output_type": "stream",
     "text": [
      "Help on function gen_sinf_list in module cw04:\n",
      "\n",
      "gen_sinf_list(a, b, n=1000)\n",
      "    gen_sinf_list(a, b, n=1000)\n",
      "    Generate a discrete approximation of a sinf function, including its\n",
      "    domain and range, stored as a pair of vanilla python lists.\n",
      "    \n",
      "    Args:\n",
      "        a (float) : Lower bound of domain\n",
      "        b (float) : Upper bound of domain\n",
      "        n (int, optional) : Number of points in domain, defaults to 1000.\n",
      "    \n",
      "    Returns:\n",
      "        (x, s) : Pair of lists of floats\n",
      "            x  : [a, ..., b] List of n equally spaced floats between a and b\n",
      "            s  : [s(a), ..., s(b)] List of sinf values matched to x\n",
      "\n"
     ]
    }
   ],
   "source": [
    "help(cw04.gen_sinf_list)"
   ]
  },
  {
   "cell_type": "code",
   "execution_count": 22,
   "metadata": {
    "collapsed": false
   },
   "outputs": [
    {
     "data": {
      "text/plain": [
       "\u001b[0;31mSignature:\u001b[0m \u001b[0mcw04\u001b[0m\u001b[0;34m.\u001b[0m\u001b[0mgen_sinf_array\u001b[0m\u001b[0;34m(\u001b[0m\u001b[0ma\u001b[0m\u001b[0;34m,\u001b[0m \u001b[0mb\u001b[0m\u001b[0;34m,\u001b[0m \u001b[0mn\u001b[0m\u001b[0;34m=\u001b[0m\u001b[0;36m1000\u001b[0m\u001b[0;34m)\u001b[0m\u001b[0;34m\u001b[0m\u001b[0m\n",
       "\u001b[0;31mDocstring:\u001b[0m\n",
       "gen_sinf_array(a, b, n=1000)\n",
       "Generate a discrete approximation of a sinf function, including its\n",
       "domain and range, stored as numpy arrays.\n",
       "\n",
       "Args:\n",
       "    a (float) : Lower bound of domain\n",
       "    b (float) : Upper bound of domain\n",
       "    n (int, optional) : Number of points in domain, defaults to 1000.\n",
       "\n",
       "Returns:\n",
       "    (x, s) : Pair of numpy arrays of float64\n",
       "        x  : [a, ..., b] Array of n equally spaced float64 between a and b\n",
       "        s  : [s(a), ..., s(b)] Array of sinf values matched to x\n",
       "\u001b[0;31mFile:\u001b[0m      ~/phys220/cw-04-phys220/cw04.py\n",
       "\u001b[0;31mType:\u001b[0m      function\n"
      ]
     },
     "execution_count": 22,
     "metadata": {
     },
     "output_type": "execute_result",
     "start": 0
    }
   ],
   "source": [
    "?cw04.gen_sinf_array"
   ]
  },
  {
   "cell_type": "code",
   "execution_count": 23,
   "metadata": {
    "collapsed": false
   },
   "outputs": [
    {
     "name": "stdout",
     "output_type": "stream",
     "text": [
      "CPU times: user 643 ms, sys: 31.8 ms, total: 675 ms\n",
      "Wall time: 746 ms\n"
     ]
    }
   ],
   "source": [
    "%time x, g = cw04.gen_sinf_list(-10,10,1000001)"
   ]
  },
  {
   "cell_type": "code",
   "execution_count": 24,
   "metadata": {
    "collapsed": false
   },
   "outputs": [
   ],
   "source": [
    "sinf = pd.DataFrame({\"x\":x,\"s(x)\":s})"
   ]
  },
  {
   "cell_type": "code",
   "execution_count": 25,
   "metadata": {
    "collapsed": false
   },
   "outputs": [
    {
     "data": {
      "text/html": [
       "<div>\n",
       "<style scoped>\n",
       "    .dataframe tbody tr th:only-of-type {\n",
       "        vertical-align: middle;\n",
       "    }\n",
       "\n",
       "    .dataframe tbody tr th {\n",
       "        vertical-align: top;\n",
       "    }\n",
       "\n",
       "    .dataframe thead th {\n",
       "        text-align: right;\n",
       "    }\n",
       "</style>\n",
       "<table border=\"1\" class=\"dataframe\">\n",
       "  <thead>\n",
       "    <tr style=\"text-align: right;\">\n",
       "      <th></th>\n",
       "      <th>s(x)</th>\n",
       "      <th>x</th>\n",
       "    </tr>\n",
       "  </thead>\n",
       "  <tbody>\n",
       "    <tr>\n",
       "      <th>0</th>\n",
       "      <td>-0.054402</td>\n",
       "      <td>-10.00000</td>\n",
       "    </tr>\n",
       "    <tr>\n",
       "      <th>1</th>\n",
       "      <td>-0.054401</td>\n",
       "      <td>-9.99998</td>\n",
       "    </tr>\n",
       "    <tr>\n",
       "      <th>2</th>\n",
       "      <td>-0.054399</td>\n",
       "      <td>-9.99996</td>\n",
       "    </tr>\n",
       "    <tr>\n",
       "      <th>3</th>\n",
       "      <td>-0.054397</td>\n",
       "      <td>-9.99994</td>\n",
       "    </tr>\n",
       "    <tr>\n",
       "      <th>4</th>\n",
       "      <td>-0.054396</td>\n",
       "      <td>-9.99992</td>\n",
       "    </tr>\n",
       "    <tr>\n",
       "      <th>5</th>\n",
       "      <td>-0.054394</td>\n",
       "      <td>-9.99990</td>\n",
       "    </tr>\n",
       "    <tr>\n",
       "      <th>6</th>\n",
       "      <td>-0.054393</td>\n",
       "      <td>-9.99988</td>\n",
       "    </tr>\n",
       "    <tr>\n",
       "      <th>7</th>\n",
       "      <td>-0.054391</td>\n",
       "      <td>-9.99986</td>\n",
       "    </tr>\n",
       "    <tr>\n",
       "      <th>8</th>\n",
       "      <td>-0.054390</td>\n",
       "      <td>-9.99984</td>\n",
       "    </tr>\n",
       "    <tr>\n",
       "      <th>9</th>\n",
       "      <td>-0.054388</td>\n",
       "      <td>-9.99982</td>\n",
       "    </tr>\n",
       "    <tr>\n",
       "      <th>10</th>\n",
       "      <td>-0.054386</td>\n",
       "      <td>-9.99980</td>\n",
       "    </tr>\n",
       "    <tr>\n",
       "      <th>11</th>\n",
       "      <td>-0.054385</td>\n",
       "      <td>-9.99978</td>\n",
       "    </tr>\n",
       "    <tr>\n",
       "      <th>12</th>\n",
       "      <td>-0.054383</td>\n",
       "      <td>-9.99976</td>\n",
       "    </tr>\n",
       "    <tr>\n",
       "      <th>13</th>\n",
       "      <td>-0.054382</td>\n",
       "      <td>-9.99974</td>\n",
       "    </tr>\n",
       "    <tr>\n",
       "      <th>14</th>\n",
       "      <td>-0.054380</td>\n",
       "      <td>-9.99972</td>\n",
       "    </tr>\n",
       "    <tr>\n",
       "      <th>15</th>\n",
       "      <td>-0.054379</td>\n",
       "      <td>-9.99970</td>\n",
       "    </tr>\n",
       "    <tr>\n",
       "      <th>16</th>\n",
       "      <td>-0.054377</td>\n",
       "      <td>-9.99968</td>\n",
       "    </tr>\n",
       "    <tr>\n",
       "      <th>17</th>\n",
       "      <td>-0.054375</td>\n",
       "      <td>-9.99966</td>\n",
       "    </tr>\n",
       "    <tr>\n",
       "      <th>18</th>\n",
       "      <td>-0.054374</td>\n",
       "      <td>-9.99964</td>\n",
       "    </tr>\n",
       "    <tr>\n",
       "      <th>19</th>\n",
       "      <td>-0.054372</td>\n",
       "      <td>-9.99962</td>\n",
       "    </tr>\n",
       "    <tr>\n",
       "      <th>20</th>\n",
       "      <td>-0.054371</td>\n",
       "      <td>-9.99960</td>\n",
       "    </tr>\n",
       "    <tr>\n",
       "      <th>21</th>\n",
       "      <td>-0.054369</td>\n",
       "      <td>-9.99958</td>\n",
       "    </tr>\n",
       "    <tr>\n",
       "      <th>22</th>\n",
       "      <td>-0.054368</td>\n",
       "      <td>-9.99956</td>\n",
       "    </tr>\n",
       "    <tr>\n",
       "      <th>23</th>\n",
       "      <td>-0.054366</td>\n",
       "      <td>-9.99954</td>\n",
       "    </tr>\n",
       "    <tr>\n",
       "      <th>24</th>\n",
       "      <td>-0.054364</td>\n",
       "      <td>-9.99952</td>\n",
       "    </tr>\n",
       "    <tr>\n",
       "      <th>25</th>\n",
       "      <td>-0.054363</td>\n",
       "      <td>-9.99950</td>\n",
       "    </tr>\n",
       "    <tr>\n",
       "      <th>26</th>\n",
       "      <td>-0.054361</td>\n",
       "      <td>-9.99948</td>\n",
       "    </tr>\n",
       "    <tr>\n",
       "      <th>27</th>\n",
       "      <td>-0.054360</td>\n",
       "      <td>-9.99946</td>\n",
       "    </tr>\n",
       "    <tr>\n",
       "      <th>28</th>\n",
       "      <td>-0.054358</td>\n",
       "      <td>-9.99944</td>\n",
       "    </tr>\n",
       "    <tr>\n",
       "      <th>29</th>\n",
       "      <td>-0.054357</td>\n",
       "      <td>-9.99942</td>\n",
       "    </tr>\n",
       "    <tr>\n",
       "      <th>...</th>\n",
       "      <td>...</td>\n",
       "      <td>...</td>\n",
       "    </tr>\n",
       "    <tr>\n",
       "      <th>999971</th>\n",
       "      <td>-0.054357</td>\n",
       "      <td>9.99942</td>\n",
       "    </tr>\n",
       "    <tr>\n",
       "      <th>999972</th>\n",
       "      <td>-0.054358</td>\n",
       "      <td>9.99944</td>\n",
       "    </tr>\n",
       "    <tr>\n",
       "      <th>999973</th>\n",
       "      <td>-0.054360</td>\n",
       "      <td>9.99946</td>\n",
       "    </tr>\n",
       "    <tr>\n",
       "      <th>999974</th>\n",
       "      <td>-0.054361</td>\n",
       "      <td>9.99948</td>\n",
       "    </tr>\n",
       "    <tr>\n",
       "      <th>999975</th>\n",
       "      <td>-0.054363</td>\n",
       "      <td>9.99950</td>\n",
       "    </tr>\n",
       "    <tr>\n",
       "      <th>999976</th>\n",
       "      <td>-0.054364</td>\n",
       "      <td>9.99952</td>\n",
       "    </tr>\n",
       "    <tr>\n",
       "      <th>999977</th>\n",
       "      <td>-0.054366</td>\n",
       "      <td>9.99954</td>\n",
       "    </tr>\n",
       "    <tr>\n",
       "      <th>999978</th>\n",
       "      <td>-0.054368</td>\n",
       "      <td>9.99956</td>\n",
       "    </tr>\n",
       "    <tr>\n",
       "      <th>999979</th>\n",
       "      <td>-0.054369</td>\n",
       "      <td>9.99958</td>\n",
       "    </tr>\n",
       "    <tr>\n",
       "      <th>999980</th>\n",
       "      <td>-0.054371</td>\n",
       "      <td>9.99960</td>\n",
       "    </tr>\n",
       "    <tr>\n",
       "      <th>999981</th>\n",
       "      <td>-0.054372</td>\n",
       "      <td>9.99962</td>\n",
       "    </tr>\n",
       "    <tr>\n",
       "      <th>999982</th>\n",
       "      <td>-0.054374</td>\n",
       "      <td>9.99964</td>\n",
       "    </tr>\n",
       "    <tr>\n",
       "      <th>999983</th>\n",
       "      <td>-0.054375</td>\n",
       "      <td>9.99966</td>\n",
       "    </tr>\n",
       "    <tr>\n",
       "      <th>999984</th>\n",
       "      <td>-0.054377</td>\n",
       "      <td>9.99968</td>\n",
       "    </tr>\n",
       "    <tr>\n",
       "      <th>999985</th>\n",
       "      <td>-0.054379</td>\n",
       "      <td>9.99970</td>\n",
       "    </tr>\n",
       "    <tr>\n",
       "      <th>999986</th>\n",
       "      <td>-0.054380</td>\n",
       "      <td>9.99972</td>\n",
       "    </tr>\n",
       "    <tr>\n",
       "      <th>999987</th>\n",
       "      <td>-0.054382</td>\n",
       "      <td>9.99974</td>\n",
       "    </tr>\n",
       "    <tr>\n",
       "      <th>999988</th>\n",
       "      <td>-0.054383</td>\n",
       "      <td>9.99976</td>\n",
       "    </tr>\n",
       "    <tr>\n",
       "      <th>999989</th>\n",
       "      <td>-0.054385</td>\n",
       "      <td>9.99978</td>\n",
       "    </tr>\n",
       "    <tr>\n",
       "      <th>999990</th>\n",
       "      <td>-0.054386</td>\n",
       "      <td>9.99980</td>\n",
       "    </tr>\n",
       "    <tr>\n",
       "      <th>999991</th>\n",
       "      <td>-0.054388</td>\n",
       "      <td>9.99982</td>\n",
       "    </tr>\n",
       "    <tr>\n",
       "      <th>999992</th>\n",
       "      <td>-0.054390</td>\n",
       "      <td>9.99984</td>\n",
       "    </tr>\n",
       "    <tr>\n",
       "      <th>999993</th>\n",
       "      <td>-0.054391</td>\n",
       "      <td>9.99986</td>\n",
       "    </tr>\n",
       "    <tr>\n",
       "      <th>999994</th>\n",
       "      <td>-0.054393</td>\n",
       "      <td>9.99988</td>\n",
       "    </tr>\n",
       "    <tr>\n",
       "      <th>999995</th>\n",
       "      <td>-0.054394</td>\n",
       "      <td>9.99990</td>\n",
       "    </tr>\n",
       "    <tr>\n",
       "      <th>999996</th>\n",
       "      <td>-0.054396</td>\n",
       "      <td>9.99992</td>\n",
       "    </tr>\n",
       "    <tr>\n",
       "      <th>999997</th>\n",
       "      <td>-0.054397</td>\n",
       "      <td>9.99994</td>\n",
       "    </tr>\n",
       "    <tr>\n",
       "      <th>999998</th>\n",
       "      <td>-0.054399</td>\n",
       "      <td>9.99996</td>\n",
       "    </tr>\n",
       "    <tr>\n",
       "      <th>999999</th>\n",
       "      <td>-0.054401</td>\n",
       "      <td>9.99998</td>\n",
       "    </tr>\n",
       "    <tr>\n",
       "      <th>1000000</th>\n",
       "      <td>-0.054402</td>\n",
       "      <td>10.00000</td>\n",
       "    </tr>\n",
       "  </tbody>\n",
       "</table>\n",
       "<p>1000001 rows × 2 columns</p>\n",
       "</div>"
      ]
     },
     "execution_count": 25,
     "metadata": {
     },
     "output_type": "execute_result"
    }
   ],
   "source": [
    "sinf"
   ]
  },
  {
   "cell_type": "code",
   "execution_count": 26,
   "metadata": {
    "collapsed": false
   },
   "outputs": [
    {
     "data": {
      "text/plain": [
       "<matplotlib.axes._subplots.AxesSubplot at 0x7fea84ffa8d0>"
      ]
     },
     "execution_count": 26,
     "metadata": {
     },
     "output_type": "execute_result"
    },
    {
     "data": {
      "image/png": "[encoded data removed]"
     },
     "metadata": {
      "image/png": {
       "height": 263,
       "width": 382
      }
     }
    }
   ],
   "source": [
    "sinf.plot(x=\"x\",y=\"s(x)\")"
   ]
  },
  {
   "cell_type": "markdown",
   "metadata": {
    "collapsed": false
   },
   "source": [
    "##### Numpy Arrays ~ Sinf(x)"
   ]
  },
  {
   "cell_type": "code",
   "execution_count": 27,
   "metadata": {
    "collapsed": false
   },
   "outputs": [
    {
     "name": "stdout",
     "output_type": "stream",
     "text": [
      "CPU times: user 34.4 ms, sys: 3.78 ms, total: 38.2 ms\n",
      "Wall time: 51.2 ms\n"
     ]
    }
   ],
   "source": [
    "%time x, g = cw04.gen_sinf_array(-10, 10, 1000001)"
   ]
  },
  {
   "cell_type": "code",
   "execution_count": 28,
   "metadata": {
    "collapsed": false
   },
   "outputs": [
   ],
   "source": [
    "sinf = pd.DataFrame({\"x\":x,\"s(x)\":s})"
   ]
  },
  {
   "cell_type": "code",
   "execution_count": 29,
   "metadata": {
    "collapsed": false,
    "scrolled": true
   },
   "outputs": [
    {
     "data": {
      "text/plain": [
       "<matplotlib.axes._subplots.AxesSubplot at 0x7fea8163f5f8>"
      ]
     },
     "execution_count": 29,
     "metadata": {
     },
     "output_type": "execute_result"
    },
    {
     "data": {
      "image/png": "[encoded data removed]"
     },
     "metadata": {
      "image/png": {
       "height": 263,
       "width": 382
      }
     }
    }
   ],
   "source": [
    "sinf.plot(x=\"x\",y=\"s(x)\")"
   ]
  },
  {
   "cell_type": "markdown",
   "metadata": {
    "collapsed": false
   },
   "source": [
    "#### CONCLUSIONS: \n",
    "* All functions worked as intended and displayed plots properly.\n",
    "* The plot functions verified the lists for the Gaussian, sinc(x) and sinf(x) function.\n",
    "* In order to obtain an accurate graph of the functions, a large n is preferable because there will be more points on the graph which allow for a more accurate \"drawing\" of the continuous function on a plot.\n",
    "* Arrays are more efficient, or faster, than lists. One big reason is that arrays eliminate the need for for loops.\n"
   ]
  }
 ],
 "metadata": {
  "kernelspec": {
   "display_name": "Python 3 (Anaconda)",
   "language": "python",
   "name": "anaconda3"
  },
  "language_info": {
   "codemirror_mode": {
    "name": "ipython",
    "version": 3
   },
   "file_extension": ".py",
   "mimetype": "text/x-python",
   "name": "python",
   "nbconvert_exporter": "python",
   "pygments_lexer": "ipython3",
   "version": "3.5.4"
  }
 },
 "nbformat": 4,
 "nbformat_minor": 0
}